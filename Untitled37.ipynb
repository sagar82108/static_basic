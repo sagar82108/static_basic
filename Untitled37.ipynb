{
 "cells": [
  {
   "cell_type": "code",
   "execution_count": null,
   "id": "1d55aa73-4528-47d1-8329-05b06199bc7b",
   "metadata": {},
   "outputs": [],
   "source": [
    "\"\"\"ans1)The three measures of central tendency are:mean,median and mode"
   ]
  },
  {
   "cell_type": "code",
   "execution_count": null,
   "id": "c052747e-3d89-4c53-9dbb-e41b9aa669d9",
   "metadata": {},
   "outputs": [],
   "source": [
    "\"\"\"ans2)Mean: The mean is calculated by adding up all the values in a dataset and then dividing the sum by the total number of values. It represents the average value of the dataset. \n",
    "However, the mean can be influenced by extreme values, also known as outliers.\n",
    "\n",
    "Median: The median is the middle value of a dataset when it is arranged in ascending or descending order.\n",
    "If there is an odd number of values, the median is the middle value. If there is an even number of values, the median is the average of the two middle values. The median is less affected by outliers compared to the mean and can provide a better representation of the \"typical\" value in a dataset.\n",
    "\n",
    "Mode: The mode is the value that appears most frequently in a dataset. \n",
    "A dataset can have one mode (unimodal), more than one mode (multimodal), or no mode at all if all values occur with the same frequency. \n",
    "The mode is useful when dealing with categorical or discrete data."
   ]
  },
  {
   "cell_type": "code",
   "execution_count": 3,
   "id": "8382e4b7-6c75-4add-9186-a9e49033a771",
   "metadata": {},
   "outputs": [
    {
     "name": "stdout",
     "output_type": "stream",
     "text": [
      "177.01875\n"
     ]
    }
   ],
   "source": [
    "#ans3)\n",
    "import numpy as np\n",
    "df=[178,177,176,177,178.2,178,175,179,180,175,178.9,176.2,177,172.5,178,176.5]\n",
    "mean=np.mean(df)\n",
    "print(mean)"
   ]
  },
  {
   "cell_type": "code",
   "execution_count": 4,
   "id": "0f37f282-b48a-4fc3-a669-2f22baf1186c",
   "metadata": {},
   "outputs": [
    {
     "name": "stdout",
     "output_type": "stream",
     "text": [
      "1.7885814036548633\n"
     ]
    }
   ],
   "source": [
    "#ans4)\n",
    "import numpy as np\n",
    "df=[178,177,176,177,178.2,178,175,179,180,175,178.9,176.2,177,172.5,178,176.5]\n",
    "std=np.std(df)\n",
    "print(std)"
   ]
  },
  {
   "cell_type": "code",
   "execution_count": null,
   "id": "61d581f7-2069-4ca0-9c6d-baeac1e91642",
   "metadata": {},
   "outputs": [],
   "source": [
    "\"\"\"ans5)Measures of dispersion, such as range, variance, and standard deviation,\n",
    "are used to quantify how spread out or dispersed the data points in a dataset are.\n",
    "\n",
    "Range:\n",
    "The range is the simplest measure of dispersion. It is the difference between the maximum and minimum values in a dataset. It gives you a rough idea of how much the data values are spread apart.\n",
    "Example:\n",
    "Consider the following ages of a group of individuals: 25, 28, 30, 32, 35. The range in this case would be 35 - 25 = 10 years.\n",
    "\n",
    "Variance:\n",
    "Variance measures the average of the squared differences between each data point and the mean of the dataset. It provides a more detailed measure of how spread out the data points are, taking into account their distance from the mean.\n",
    "Example:\n",
    "Suppose you have a dataset of exam scores: 85, 89, 92, 78, 94. The mean of these scores is (85 + 89 + 92 + 78 + 94) / 5 = 87.6. The squared differences from the mean are: (85 - 87.6)^2, (89 - 87.6)^2, (92 - 87.6)^2, (78 - 87.6)^2, and (94 - 87.6)^2. Calculate the average of these squared differences to get the variance.\n",
    "\n",
    "Standard Deviation:\n",
    "The standard deviation is the square root of the variance. It provides a measure of the average distance between each data point and the mean. A higher standard deviation indicates greater variability in the dataset.\n",
    "Example (continued from the previous example):\n",
    "After calculating the variance, let's say you find it to be 26.24. The standard deviation would be the square root of the variance, approximately 5.12.\n",
    "\n",
    "\n",
    "\n",
    "\n",
    "\n",
    "\n",
    "\n"
   ]
  },
  {
   "cell_type": "code",
   "execution_count": null,
   "id": "c1987c50-d282-4e98-b242-5c6ac7513c42",
   "metadata": {},
   "outputs": [],
   "source": [
    "\"\"\"ans6)A Venn diagram is a graphical representation used to show the relationships between sets or groups of items. \n",
    "It consists of overlapping circles (or other closed shapes) that represent the sets, with each circle representing a different set.\n",
    "The overlaps or intersections between the circles indicate the elements that are shared between the sets."
   ]
  },
  {
   "cell_type": "code",
   "execution_count": null,
   "id": "f5e4619f-f66c-468d-8e12-40a1c8e02e3e",
   "metadata": {},
   "outputs": [],
   "source": [
    "\"\"\"ans7)sets A = (2,3,4,5,6,7)\n",
    " B = (0,2,6,8,10).\n",
    "(i) A interection B=(2,6)\n",
    "\n",
    "(ii) A union B=(0,2,3,4,5,6,7,8,10)\n"
   ]
  },
  {
   "cell_type": "code",
   "execution_count": null,
   "id": "4a411cc4-3005-4cea-a064-67c5f253b5eb",
   "metadata": {},
   "outputs": [],
   "source": [
    "\"\"\"ans8)Skewness in data refers to the asymmetry or lack of symmetry in the distribution of data points in a dataset.\n",
    "In other words, it indicates whether the data is skewed (lopsided) to one side of the distribution. \n",
    "Skewness is a statistical measure that helps us understand the shape and characteristics of the distribution of data."
   ]
  },
  {
   "cell_type": "code",
   "execution_count": null,
   "id": "579bd8b6-706e-4066-84c4-528ec2e7a57e",
   "metadata": {},
   "outputs": [],
   "source": [
    "\"\"\"ans9)In a right-skewed distribution, the median will typically be less than the mean. \n",
    "This is because the longer tail on the right side of the distribution, which contains a few larger values, tends to pull the mean in that direction.\n",
    "As a result, the mean is influenced by these larger values, causing it to be greater than the median"
   ]
  },
  {
   "cell_type": "code",
   "execution_count": null,
   "id": "b82df5a9-77e6-4058-b8cc-242a60d0ff9f",
   "metadata": {},
   "outputs": [],
   "source": [
    "\"\"\"ans10)Covariance and correlation are both statistical measures that describe the relationship between two variables. \n",
    "While they are related concepts, they have distinct differences in terms of their interpretation and application.\n",
    "\n",
    "Covariance:\n",
    "Covariance measures the degree to which two variables change together. \n",
    "correlation:\n",
    "Correlation, on the other hand, is a standardized measure that indicates the strength and direction of the linear relationship between two variables.\n",
    "It provides a value between -1 and 1, where -1 represents a perfect negative linear relationship,\n",
    "1 represents a perfect positive linear relationship, and 0 represents no linear relationship.s, it quantifies the extent to which changes in one variable are associated with changes in another variable."
   ]
  },
  {
   "cell_type": "code",
   "execution_count": null,
   "id": "dc37988e-b03f-4fab-9ff4-fe208b6338a0",
   "metadata": {},
   "outputs": [],
   "source": [
    "\"\"\"ans11)The sample mean is a measure that gives us the average value of a set of data points. \n",
    "To calculate the sample mean, you add up all the individual data points and\n",
    "then divide the sum by the total number of data points."
   ]
  },
  {
   "cell_type": "code",
   "execution_count": null,
   "id": "684a20ba-5e59-4913-be72-bcca2a32ba62",
   "metadata": {},
   "outputs": [],
   "source": [
    "\"\"\"ans12) for a normal distribution with perfect symmetry:\n",
    "\n",
    "Mean = Median = Mode\n",
    "\n",
    "However, in real-world situations, minor deviations from this ideal symmetry can occur due to various factors, \n",
    "but the relationship between these central tendency measures still remains closely related in a normal distribution."
   ]
  },
  {
   "cell_type": "code",
   "execution_count": null,
   "id": "19563ffa-21c0-4984-bfd5-e41c8a0faafd",
   "metadata": {},
   "outputs": [],
   "source": [
    "\"\"\"ans13)Covariance: Measures the joint variability between variables,\n",
    "has an interpretation related to the direction of relationship, and is not standardized.\n",
    "It can be positive, negative, or zero.\n",
    "\n",
    "Correlation: Measures the strength and direction of a linear relationship,\n",
    "is standardized between -1 and 1, and provides a clear indication of the strength of the relationship."
   ]
  },
  {
   "cell_type": "code",
   "execution_count": null,
   "id": "b6caf87c-b4ff-4ec9-8efd-0829cdfb855f",
   "metadata": {},
   "outputs": [],
   "source": [
    "\"\"\"ans14)Outliers are data points that are significantly different from the rest of the data in a dataset.\n",
    "They can have a substantial impact on measures of central tendency (mean, median, mode) and\n",
    "measures of dispersion (range, variance, standard deviation).\n",
    "Outliers can skew these measures and lead to misinterpretations of the data.\n",
    "\n",
    "Example:\n",
    "\n",
    "Consider a dataset representing the ages of a group of individuals: 25, 28, 30, 32, 35, 70. The outlier here is 70, which is significantly larger than the other ages.\n",
    "Let's see how outliers affect the measures of central tendency and dispersion:\n",
    "\n",
    "Mean: Without the outlier: (25 + 28 + 30 + 32 + 35) / 5 = 30; With the outlier: (25 + 28 + 30 + 32 + 35 + 70) / 6 ≈ 38.33.\n",
    "Median: Without the outlier: 30; With the outlier: 31.\n",
    "Range: Without the outlier: 35 - 25 = 10; With the outlier: 70 - 25 = 45.\n",
    "Variance and Standard Deviation: The presence of the outlier will increase both the variance and\n",
    "standard deviation due to the larger squared differences between the outlier and the mean."
   ]
  }
 ],
 "metadata": {
  "kernelspec": {
   "display_name": "Python 3 (ipykernel)",
   "language": "python",
   "name": "python3"
  },
  "language_info": {
   "codemirror_mode": {
    "name": "ipython",
    "version": 3
   },
   "file_extension": ".py",
   "mimetype": "text/x-python",
   "name": "python",
   "nbconvert_exporter": "python",
   "pygments_lexer": "ipython3",
   "version": "3.10.8"
  }
 },
 "nbformat": 4,
 "nbformat_minor": 5
}
